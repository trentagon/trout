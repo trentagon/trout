{
 "cells": [
  {
   "cell_type": "markdown",
   "id": "308a0b54",
   "metadata": {},
   "source": [
    "## Generate TRAPPIST-1 data\n",
    "\n",
    "This notebook is designed to generate the main dataset used in the analysis, including application of filters. Here, the magma emplacement rate is randomly sampled for each TRAPPIST-1 planet.\n",
    "\n",
    "*Important*: The VolcGases library is required to run this notebook and can be found at `https://github.com/Nicholaswogan/VolcGases`"
   ]
  },
  {
   "cell_type": "code",
   "execution_count": null,
   "id": "ee2e819e-6ccf-4709-86f0-a1ce092b9bc5",
   "metadata": {
    "tags": []
   },
   "outputs": [],
   "source": [
    "import numpy as np\n",
    "import pandas as pd\n",
    "from VolcGases.functions import solve_gases\n",
    "\n",
    "molar_keys = ['H2O','H2','CO2','CO','CH4']\n",
    "molar_vals = np.array([18.015,2.016,44.01,28.01,16.04])*1e-3\n",
    "molar_masses = dict(zip(molar_keys, molar_vals))"
   ]
  },
  {
   "cell_type": "markdown",
   "id": "4d4f64d3-54cf-43eb-a387-08d145ae7182",
   "metadata": {},
   "source": [
    "## Functions that do the core calculations"
   ]
  },
  {
   "cell_type": "code",
   "execution_count": 2,
   "id": "9b6d098c-8201-43d7-a384-cc8a1a754234",
   "metadata": {
    "tags": []
   },
   "outputs": [],
   "source": [
    "# This does the calculation of the equilibrium degassing model from Wogan et al. 2020\n",
    "def outgas(input_dict):\n",
    "        \n",
    "    m_H2O_mantle = input_dict[\"m_H2O_mantle\"]\n",
    "    F = input_dict[\"F\"]\n",
    "    Pprim = input_dict[\"Pprim\"]\n",
    "    T = input_dict[\"T\"]\n",
    "    x_CO2_melt = input_dict[\"x_CO2_melt\"]\n",
    "    FMQ = input_dict[\"FMQ\"]\n",
    "    Psurf = input_dict[\"Psurf\"]\n",
    "    \n",
    "    D = 0.01\n",
    "    A = 25738\n",
    "    B = 9\n",
    "    C = 0.092\n",
    "    x = 0.01550152865954013\n",
    "    Q_earth = 9e13\n",
    "    \n",
    "    # Step 1: Compute melt water content\n",
    "    m_frac = (m_H2O_mantle/F)*(1-np.power((1-F),1/D))\n",
    "    m_sat  = ((12*np.power(Pprim,0.6)) + (1*Pprim))/100\n",
    "    x_H2O_melt = np.min([m_frac,m_sat])\n",
    "\n",
    "    # Step 2: Compute gas production\n",
    "    log_FMQ = (-A/T+B+C*(Psurf-1)/T)\n",
    "    f_O2 = 10**(log_FMQ+FMQ)\n",
    "\n",
    "    P_H2O,P_H2,P_CO2,P_CO,P_CH4,alphaG,x_CO2,x_H2O = solve_gases(T,Psurf,f_O2,x_CO2_melt,x_H2O_melt)\n",
    "    H2O_gas = 1000*alphaG*x*(1/(1-alphaG))*P_H2O/Psurf # mol per kg\n",
    "    H2_gas = 1000*alphaG*x*(1/(1-alphaG))*P_H2/Psurf # mol per kg\n",
    "    CO2_gas = 1000*alphaG*x*(1/(1-alphaG))*P_CO2/Psurf # mol per kg\n",
    "    CO_gas = 1000*alphaG*x*(1/(1-alphaG))*P_CO/Psurf # mol per kg\n",
    "    CH4_gas = 1000*alphaG*x*(1/(1-alphaG))*P_CH4/Psurf # mol per kg\n",
    "    \n",
    "    keys = ['H2O_gas', 'H2_gas', 'CO2_gas', 'CO_gas', 'CH4_gas']\n",
    "    vals = [H2O_gas, H2_gas, CO2_gas, CO_gas, CH4_gas]\n",
    "    output_dict = dict(zip(keys, vals))\n",
    "    \n",
    "    return output_dict\n",
    "\n",
    "# This is for calculating the outgassing fluxes of the species given the result of the equil degas code and Q\n",
    "def calcFluxes_KgYr(Q,outgas_dict):\n",
    "    \n",
    "    # mag_rho = 2900*1e9 # kg km-3, density of magma, consistent with Earth oceanic crust\n",
    "    # molar_keys = ['H2O','H2','CO2','CO','CH4']\n",
    "    # molar_vals = np.array([18.015,2.016,44.01,28.01,16.04])*1e-3\n",
    "    # molar_masses = dict(zip(molar_keys, molar_vals))\n",
    "    \n",
    "    H2O_flux = Q*outgas_dict['H2O_gas']*18.015*1e-3*2900*1e9\n",
    "    H2_flux  = Q*outgas_dict['H2_gas'] *2.016*1e-3*2900*1e9\n",
    "    CO2_flux = Q*outgas_dict['CO2_gas']*44.01*1e-3*2900*1e9\n",
    "    CO_flux  = Q*outgas_dict['CO_gas'] *28.01*1e-3*2900*1e9\n",
    "    CH4_flux = Q*outgas_dict['CH4_gas']*16.04*1e-3*2900*1e9\n",
    "    \n",
    "    keys = ['H2O_flux', 'H2_flux', 'CO2_flux', 'CO_flux', 'CH4_flux']\n",
    "    vals = [H2O_flux, H2_flux, CO2_flux, CO_flux, CH4_flux]\n",
    "    output_dict = dict(zip(keys, vals))\n",
    "    \n",
    "    return output_dict\n",
    "\n",
    "# This is for randomly sampling parameters\n",
    "def drawParams():\n",
    "    \n",
    "    m_H2O_mantle = np.random.uniform(0.01/100,3/100)\n",
    "    F            = np.random.uniform(10/100,20/100)\n",
    "    Pprim        = np.random.uniform(1,3)\n",
    "    T            = np.random.uniform(873,1973)\n",
    "    x_CO2_melt   = np.power(10,np.random.uniform(-5,-2))\n",
    "    FMQ          = np.random.uniform(-4,5)\n",
    "    Psurf        = np.power(10,np.random.uniform(-3,2))\n",
    "    \n",
    "    keys = ['m_H2O_mantle', 'F', 'Pprim', 'T', 'x_CO2_melt', 'FMQ', 'Psurf']\n",
    "    vals = [m_H2O_mantle, F, Pprim, T, x_CO2_melt, FMQ, Psurf]\n",
    "    output_dict = dict(zip(keys, vals))\n",
    "    \n",
    "    return output_dict"
   ]
  },
  {
   "cell_type": "markdown",
   "id": "2fb47969-866a-4e0b-b5ad-4ba417324b19",
   "metadata": {},
   "source": [
    "## Execute the parameter sweep"
   ]
  },
  {
   "cell_type": "code",
   "execution_count": 3,
   "id": "0d641098-c7fb-49c8-b021-2344d82d7e9a",
   "metadata": {
    "tags": []
   },
   "outputs": [],
   "source": [
    "NSAMPLES = int(1e5)\n",
    "\n",
    "input_names = [\"m_H2O_mantle\",\"F\",\"Pprim\",\"T\",\"x_CO2_melt\",\"FMQ\",\"Psurf\"]\n",
    "result_names = [\"H2O_gas\", \"H2_gas\", \"CO2_gas\", \"CO_gas\", \"CH4_gas\"]\n",
    "flux_names = [\"Q\",\"H2O_flux\",\"H2_flux\",\"CO2_flux\",\"CO_flux\",\"CH4_flux\"]\n",
    "all_column_names = input_names + result_names + flux_names\n",
    "\n",
    "\n",
    "minQ = 0.01\n",
    "maxQs = [8500, 5840, 1230, 2159, 2130, 2344, 1230]\n",
    "\n",
    "t1_dfs = np.empty(7,dtype=object)\n",
    "\n",
    "\n",
    "for i in range(len(t1_dfs)):\n",
    "    outgas_df = pd.DataFrame(columns=all_column_names, index=range(0, NSAMPLES))\n",
    "    maxQ = maxQs[i]\n",
    "    \n",
    "    for j in range(NSAMPLES):\n",
    "        loop_inp = drawParams() # sample the input parameters\n",
    "        loop_res = outgas(loop_inp) # calculate the outgassing fluxes\n",
    "\n",
    "        Q = np.power(10,np.random.uniform(np.log10(minQ),np.log10(maxQ))) # log sample the magma emplacement rate, up to the maximum Q across all of T1\n",
    "        loop_flux = calcFluxes_KgYr(Q,loop_res)\n",
    "\n",
    "        outgas_df.iloc[j] = list(loop_inp.values()) + list(loop_res.values()) + [Q] + list(loop_flux.values())\n",
    "    \n",
    "    t1_dfs[i] = outgas_df"
   ]
  },
  {
   "cell_type": "markdown",
   "id": "59746eb7-2d20-4f96-a487-0d8134364c4e",
   "metadata": {
    "tags": []
   },
   "source": [
    "## Calculate filter 1"
   ]
  },
  {
   "cell_type": "code",
   "execution_count": 4,
   "id": "af6489fd-0c50-4127-8b63-3aa4506e8497",
   "metadata": {
    "tags": []
   },
   "outputs": [],
   "source": [
    "# CALCULATE ENERGY LIMITED HYDROGEN ESCAPE RATE\n",
    "\n",
    "# T1 planet values\n",
    "r_earth = 6371*1e3 # m\n",
    "rp = np.array([1.116, 1.097, 0.788, 0.920, 1.045, 1.129, 0.755])*r_earth # m\n",
    "\n",
    "M_earth = 5.9722e24 # kg\n",
    "Mp = np.array([1.374, 1.308, 0.388, 0.692, 1.039, 1.321, 0.326])*M_earth # kg\n",
    "\n",
    "Fxuv = np.array([2935.13,1564.87,788.455,456.452,263.598,178.116,102.035])*1e-7 # joules s-1 cm-2\n",
    "\n",
    "# Constants in the equation\n",
    "epsilon = 0.3 # unitless\n",
    "G = 6.674e-11 # N m2 kg-2\n",
    "Ktide = 1 # unitless\n",
    "mH = 1*1.67377e-27 # kg\n",
    "sa = 4*np.pi*np.power(rp,2)\n",
    "\n",
    "# Final equation\n",
    "phi_cgs = (epsilon*Fxuv*rp)/(4*G*Mp*mH) # H atoms s-1 cm-2\n",
    "phi_final = phi_cgs*(1.67377e-27)*(3.1536e7)*(sa*1e4) # kg yr-1, H2_FLUX is not allowed to be higher than this"
   ]
  },
  {
   "cell_type": "markdown",
   "id": "2a53a8a2-8e5a-4579-8af7-72a270dad87a",
   "metadata": {
    "tags": []
   },
   "source": [
    "## Calculate filter 2"
   ]
  },
  {
   "cell_type": "code",
   "execution_count": 5,
   "id": "267da78e-0bd5-45cc-bef4-b0556e9e4c30",
   "metadata": {
    "tags": []
   },
   "outputs": [],
   "source": [
    "# CALCULATE THE UPPER RATE LIMIT FOR EACH PLANET GIVEN A CAP ON WMF\n",
    "\n",
    "max_wmf = 3/100\n",
    "# t1_age = 9.8e9 # yr\n",
    "t1_age = 5.4e9 # yr\n",
    "\n",
    "cmf = 0.18\n",
    "M_mantle = (1-cmf)*Mp\n",
    "\n",
    "temp_m_h2o_mantle = 0.01\n",
    "# max_rate = (M_mantle[0]*(max_wmf - temp_m_h2o_mantle))/((1-max_wmf)*t1_age) # H2O_Flux is not allowed to be higher than this\n",
    "# ^ This is just a place holder to see how it works, it can't be calculated beforehand"
   ]
  },
  {
   "cell_type": "markdown",
   "id": "faf8523d-e43b-4826-99ae-8411c4aa99af",
   "metadata": {},
   "source": [
    "## Apply filters"
   ]
  },
  {
   "cell_type": "code",
   "execution_count": 6,
   "id": "12aa8eca",
   "metadata": {},
   "outputs": [
    {
     "name": "stdout",
     "output_type": "stream",
     "text": [
      "T1-b: 61.97% remaining.\n",
      "T1-c: 63.09% remaining.\n",
      "T1-d: 61.09% remaining.\n",
      "T1-e: 63.05% remaining.\n",
      "T1-f: 66.36% remaining.\n",
      "T1-g: 67.55% remaining.\n",
      "T1-h: 59.63% remaining.\n"
     ]
    }
   ],
   "source": [
    "planet_labels = ['b','c','d','e','f','g','h']\n",
    "\n",
    "t1_dfs_filtered = np.empty(7,dtype=object)\n",
    "\n",
    "# Loop through the 7 planets\n",
    "for i in range(7):\n",
    "    temp1 = t1_dfs[i] # Get the full sample for each planet\n",
    "    filter_1_idxs = []\n",
    "    for j in range(len(temp1)):\n",
    "        h2_dominant = False\n",
    "        above_limit = temp1.iloc[j][\"H2_flux\"] > phi_final[i]\n",
    "        if above_limit:\n",
    "            max_rate = np.max((temp1.iloc[j][\"H2O_flux\"]/molar_masses['H2O'],temp1.iloc[j][\"CO2_flux\"]/molar_masses['CO2'],temp1.iloc[j][\"CO_flux\"]/molar_masses['CO'],temp1.iloc[j][\"CH4_flux\"]/molar_masses['CH4']))\n",
    "            h2_dominant = temp1.iloc[j][\"H2_flux\"]/molar_masses['H2'] > max_rate\n",
    "\n",
    "        if not h2_dominant:\n",
    "            filter_1_idxs.append(j)\n",
    "\n",
    "    temp2 = temp1.iloc[filter_1_idxs]\n",
    "    temp3 = temp2[temp2['H2O_flux'] <= (M_mantle[i]*(max_wmf - temp2['m_H2O_mantle']))/((1-max_wmf)*t1_age)] # Apply filter 2: interior evolution\n",
    "    t1_dfs_filtered[i] = temp3\n",
    "    \n",
    "    pct_left = 100*temp3.shape[0]/temp1.shape[0]\n",
    "    print(f\"T1-{planet_labels[i]}: {pct_left:.2f}% remaining.\")\n"
   ]
  },
  {
   "cell_type": "markdown",
   "id": "96f644ab-4c21-405e-8d74-f48ad1c820f7",
   "metadata": {},
   "source": [
    "## Save data"
   ]
  },
  {
   "cell_type": "code",
   "execution_count": 7,
   "id": "6778c30f-997f-40d5-8145-0d99f07ef424",
   "metadata": {
    "tags": []
   },
   "outputs": [],
   "source": [
    "np.save(\"sample_full\",t1_dfs)\n",
    "np.save(\"sample_filtered\",t1_dfs_filtered)"
   ]
  },
  {
   "cell_type": "code",
   "execution_count": null,
   "id": "303c027a",
   "metadata": {},
   "outputs": [],
   "source": []
  }
 ],
 "metadata": {
  "kernelspec": {
   "display_name": "volc",
   "language": "python",
   "name": "python3"
  },
  "language_info": {
   "codemirror_mode": {
    "name": "ipython",
    "version": 3
   },
   "file_extension": ".py",
   "mimetype": "text/x-python",
   "name": "python",
   "nbconvert_exporter": "python",
   "pygments_lexer": "ipython3",
   "version": "3.11.3"
  }
 },
 "nbformat": 4,
 "nbformat_minor": 5
}
